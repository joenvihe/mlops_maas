{
 "cells": [
  {
   "cell_type": "code",
   "execution_count": 1,
   "metadata": {
    "id": "UEdGsZBL7U6h"
   },
   "outputs": [],
   "source": [
    "from sklearn.ensemble import ExtraTreesClassifier\n",
    "import pandas as pd\n",
    "import numpy as np\n",
    "import pickle\n",
    "import seaborn as sns\n",
    "%matplotlib inline\n"
   ]
  },
  {
   "cell_type": "code",
   "execution_count": 2,
   "metadata": {
    "id": "JIsP15dO9OBi"
   },
   "outputs": [],
   "source": [
    "from sklearn.tree import DecisionTreeClassifier\n",
    "from sklearn.ensemble import RandomForestClassifier"
   ]
  },
  {
   "cell_type": "code",
   "execution_count": 3,
   "metadata": {
    "id": "qdXpsCXU9RcY"
   },
   "outputs": [],
   "source": [
    "from sklearn.model_selection import train_test_split\n",
    "from sklearn.metrics import accuracy_score, confusion_matrix, classification_report"
   ]
  },
  {
   "cell_type": "code",
   "execution_count": 4,
   "metadata": {
    "id": "IieLYHyB9Tyc"
   },
   "outputs": [],
   "source": [
    "ds1 = pd.read_csv('../data/external/BankAnalysis.csv') "
   ]
  },
  {
   "cell_type": "markdown",
   "metadata": {
    "id": "RbBMddVXRzMy"
   },
   "source": [
    "# New Section"
   ]
  },
  {
   "cell_type": "code",
   "execution_count": 5,
   "metadata": {
    "colab": {
     "base_uri": "https://localhost:8080/",
     "height": 287
    },
    "executionInfo": {
     "elapsed": 438,
     "status": "ok",
     "timestamp": 1644299458770,
     "user": {
      "displayName": "Ujwala K.V.L.",
      "photoUrl": "https://lh3.googleusercontent.com/a-/AOh14GiXQpukMbci2cH0PsCvRH6c7MtzyF84W1wM8Ac7=s64",
      "userId": "09066360044914152245"
     },
     "user_tz": -330
    },
    "id": "edJnRFodHf0h",
    "outputId": "f36a80a5-7fd0-46ca-9f2f-1919ea0cbda7"
   },
   "outputs": [
    {
     "data": {
      "text/html": [
       "<div>\n",
       "<style scoped>\n",
       "    .dataframe tbody tr th:only-of-type {\n",
       "        vertical-align: middle;\n",
       "    }\n",
       "\n",
       "    .dataframe tbody tr th {\n",
       "        vertical-align: top;\n",
       "    }\n",
       "\n",
       "    .dataframe thead th {\n",
       "        text-align: right;\n",
       "    }\n",
       "</style>\n",
       "<table border=\"1\" class=\"dataframe\">\n",
       "  <thead>\n",
       "    <tr style=\"text-align: right;\">\n",
       "      <th></th>\n",
       "      <th>Unnamed: 0</th>\n",
       "      <th>age</th>\n",
       "      <th>default</th>\n",
       "      <th>balance</th>\n",
       "      <th>housing</th>\n",
       "      <th>loan</th>\n",
       "      <th>day</th>\n",
       "      <th>campaign</th>\n",
       "      <th>pdays</th>\n",
       "      <th>previous</th>\n",
       "      <th>deposit</th>\n",
       "      <th>ordinal_job</th>\n",
       "      <th>ordinal_marital</th>\n",
       "      <th>ordinal_education</th>\n",
       "      <th>ordinal_contact</th>\n",
       "      <th>ordinal_month</th>\n",
       "      <th>ordinal_poutcome</th>\n",
       "      <th>duration(in minutes)</th>\n",
       "    </tr>\n",
       "  </thead>\n",
       "  <tbody>\n",
       "    <tr>\n",
       "      <th>0</th>\n",
       "      <td>0</td>\n",
       "      <td>59.0</td>\n",
       "      <td>0</td>\n",
       "      <td>0.908149</td>\n",
       "      <td>1</td>\n",
       "      <td>0</td>\n",
       "      <td>5</td>\n",
       "      <td>1</td>\n",
       "      <td>-1.0</td>\n",
       "      <td>0</td>\n",
       "      <td>1</td>\n",
       "      <td>7</td>\n",
       "      <td>1</td>\n",
       "      <td>2</td>\n",
       "      <td>1</td>\n",
       "      <td>1</td>\n",
       "      <td>1</td>\n",
       "      <td>17</td>\n",
       "    </tr>\n",
       "    <tr>\n",
       "      <th>1</th>\n",
       "      <td>1</td>\n",
       "      <td>56.0</td>\n",
       "      <td>0</td>\n",
       "      <td>-0.794565</td>\n",
       "      <td>0</td>\n",
       "      <td>0</td>\n",
       "      <td>5</td>\n",
       "      <td>1</td>\n",
       "      <td>-1.0</td>\n",
       "      <td>0</td>\n",
       "      <td>1</td>\n",
       "      <td>7</td>\n",
       "      <td>1</td>\n",
       "      <td>2</td>\n",
       "      <td>1</td>\n",
       "      <td>1</td>\n",
       "      <td>1</td>\n",
       "      <td>17</td>\n",
       "    </tr>\n",
       "    <tr>\n",
       "      <th>2</th>\n",
       "      <td>2</td>\n",
       "      <td>41.0</td>\n",
       "      <td>0</td>\n",
       "      <td>0.113105</td>\n",
       "      <td>1</td>\n",
       "      <td>0</td>\n",
       "      <td>5</td>\n",
       "      <td>1</td>\n",
       "      <td>-1.0</td>\n",
       "      <td>0</td>\n",
       "      <td>1</td>\n",
       "      <td>5</td>\n",
       "      <td>1</td>\n",
       "      <td>2</td>\n",
       "      <td>1</td>\n",
       "      <td>1</td>\n",
       "      <td>1</td>\n",
       "      <td>17</td>\n",
       "    </tr>\n",
       "    <tr>\n",
       "      <th>3</th>\n",
       "      <td>3</td>\n",
       "      <td>55.0</td>\n",
       "      <td>0</td>\n",
       "      <td>1.006696</td>\n",
       "      <td>1</td>\n",
       "      <td>0</td>\n",
       "      <td>5</td>\n",
       "      <td>1</td>\n",
       "      <td>-1.0</td>\n",
       "      <td>0</td>\n",
       "      <td>1</td>\n",
       "      <td>4</td>\n",
       "      <td>1</td>\n",
       "      <td>2</td>\n",
       "      <td>1</td>\n",
       "      <td>1</td>\n",
       "      <td>1</td>\n",
       "      <td>9</td>\n",
       "    </tr>\n",
       "    <tr>\n",
       "      <th>4</th>\n",
       "      <td>4</td>\n",
       "      <td>54.0</td>\n",
       "      <td>0</td>\n",
       "      <td>-0.691572</td>\n",
       "      <td>0</td>\n",
       "      <td>0</td>\n",
       "      <td>5</td>\n",
       "      <td>2</td>\n",
       "      <td>-1.0</td>\n",
       "      <td>0</td>\n",
       "      <td>1</td>\n",
       "      <td>7</td>\n",
       "      <td>1</td>\n",
       "      <td>4</td>\n",
       "      <td>1</td>\n",
       "      <td>1</td>\n",
       "      <td>1</td>\n",
       "      <td>11</td>\n",
       "    </tr>\n",
       "  </tbody>\n",
       "</table>\n",
       "</div>"
      ],
      "text/plain": [
       "   Unnamed: 0   age  default   balance  housing  loan  day  campaign  pdays  \\\n",
       "0           0  59.0        0  0.908149        1     0    5         1   -1.0   \n",
       "1           1  56.0        0 -0.794565        0     0    5         1   -1.0   \n",
       "2           2  41.0        0  0.113105        1     0    5         1   -1.0   \n",
       "3           3  55.0        0  1.006696        1     0    5         1   -1.0   \n",
       "4           4  54.0        0 -0.691572        0     0    5         2   -1.0   \n",
       "\n",
       "   previous  deposit  ordinal_job  ordinal_marital  ordinal_education  \\\n",
       "0         0        1            7                1                  2   \n",
       "1         0        1            7                1                  2   \n",
       "2         0        1            5                1                  2   \n",
       "3         0        1            4                1                  2   \n",
       "4         0        1            7                1                  4   \n",
       "\n",
       "   ordinal_contact  ordinal_month  ordinal_poutcome  duration(in minutes)  \n",
       "0                1              1                 1                    17  \n",
       "1                1              1                 1                    17  \n",
       "2                1              1                 1                    17  \n",
       "3                1              1                 1                     9  \n",
       "4                1              1                 1                    11  "
      ]
     },
     "execution_count": 5,
     "metadata": {},
     "output_type": "execute_result"
    }
   ],
   "source": [
    "ds1.head()"
   ]
  },
  {
   "cell_type": "code",
   "execution_count": 7,
   "metadata": {
    "colab": {
     "base_uri": "https://localhost:8080/"
    },
    "executionInfo": {
     "elapsed": 21,
     "status": "ok",
     "timestamp": 1644299903957,
     "user": {
      "displayName": "Ujwala K.V.L.",
      "photoUrl": "https://lh3.googleusercontent.com/a-/AOh14GiXQpukMbci2cH0PsCvRH6c7MtzyF84W1wM8Ac7=s64",
      "userId": "09066360044914152245"
     },
     "user_tz": -330
    },
    "id": "r1oYBDTUHs96",
    "outputId": "4cdc071c-6fa2-46ad-e768-d9761a31352b"
   },
   "outputs": [
    {
     "data": {
      "text/plain": [
       "(11162, 18)"
      ]
     },
     "execution_count": 7,
     "metadata": {},
     "output_type": "execute_result"
    }
   ],
   "source": [
    "ds1.shape"
   ]
  },
  {
   "cell_type": "code",
   "execution_count": 8,
   "metadata": {
    "id": "-_6GdZAu9Yau"
   },
   "outputs": [],
   "source": [
    "x = ds1.drop('deposit',axis = 1) \n",
    "y = ds1['deposit']"
   ]
  },
  {
   "cell_type": "code",
   "execution_count": 9,
   "metadata": {
    "id": "lxITDZ-k9bdo"
   },
   "outputs": [],
   "source": [
    "# creating the object\n",
    "\n",
    "ec = ExtraTreesClassifier()"
   ]
  },
  {
   "cell_type": "code",
   "execution_count": 10,
   "metadata": {
    "colab": {
     "base_uri": "https://localhost:8080/"
    },
    "executionInfo": {
     "elapsed": 1076,
     "status": "ok",
     "timestamp": 1644299905021,
     "user": {
      "displayName": "Ujwala K.V.L.",
      "photoUrl": "https://lh3.googleusercontent.com/a-/AOh14GiXQpukMbci2cH0PsCvRH6c7MtzyF84W1wM8Ac7=s64",
      "userId": "09066360044914152245"
     },
     "user_tz": -330
    },
    "id": "OxnMVm4L9ic8",
    "outputId": "d8d89186-9e2d-4895-e6e2-16f4734106da"
   },
   "outputs": [
    {
     "data": {
      "text/plain": [
       "ExtraTreesClassifier()"
      ]
     },
     "execution_count": 10,
     "metadata": {},
     "output_type": "execute_result"
    }
   ],
   "source": [
    "ec.fit(x,y) # applying the classifier"
   ]
  },
  {
   "cell_type": "code",
   "execution_count": 11,
   "metadata": {
    "colab": {
     "base_uri": "https://localhost:8080/"
    },
    "executionInfo": {
     "elapsed": 8,
     "status": "ok",
     "timestamp": 1644299905022,
     "user": {
      "displayName": "Ujwala K.V.L.",
      "photoUrl": "https://lh3.googleusercontent.com/a-/AOh14GiXQpukMbci2cH0PsCvRH6c7MtzyF84W1wM8Ac7=s64",
      "userId": "09066360044914152245"
     },
     "user_tz": -330
    },
    "id": "sWV8fAMaH92I",
    "outputId": "7f848324-a308-445c-8fb6-39b9072b3734"
   },
   "outputs": [
    {
     "data": {
      "text/plain": [
       "array([0.62501334, 0.01494478, 0.00064263, 0.0138759 , 0.02179294,\n",
       "       0.00624505, 0.0149049 , 0.0105157 , 0.024505  , 0.00472117,\n",
       "       0.01326944, 0.0074232 , 0.00777611, 0.02648381, 0.03828046,\n",
       "       0.03373192, 0.13587364])"
      ]
     },
     "execution_count": 11,
     "metadata": {},
     "output_type": "execute_result"
    }
   ],
   "source": [
    "ec.feature_importances_"
   ]
  },
  {
   "cell_type": "code",
   "execution_count": 12,
   "metadata": {
    "colab": {
     "base_uri": "https://localhost:8080/",
     "height": 265
    },
    "executionInfo": {
     "elapsed": 914,
     "status": "ok",
     "timestamp": 1644299905932,
     "user": {
      "displayName": "Ujwala K.V.L.",
      "photoUrl": "https://lh3.googleusercontent.com/a-/AOh14GiXQpukMbci2cH0PsCvRH6c7MtzyF84W1wM8Ac7=s64",
      "userId": "09066360044914152245"
     },
     "user_tz": -330
    },
    "id": "8yjNGXHE9k6E",
    "outputId": "fd2fc6ee-d2e5-4408-8a02-1b7be8d660c9"
   },
   "outputs": [
    {
     "data": {
      "image/png": "[encoded data removed]",
      "text/plain": [
       "<Figure size 432x288 with 1 Axes>"
      ]
     },
     "metadata": {
      "needs_background": "light"
     },
     "output_type": "display_data"
    }
   ],
   "source": [
    "# plotting the scores and values\n",
    "\n",
    "f_s = pd.Series(ec.feature_importances_, index = x.columns, name = 'features')\n",
    "fs = f_s.nlargest(10).plot(kind = 'barh')"
   ]
  },
  {
   "cell_type": "code",
   "execution_count": 13,
   "metadata": {
    "id": "iAoepw9U9mut"
   },
   "outputs": [],
   "source": [
    "fss = f_s.nlargest(10) # copying the series"
   ]
  },
  {
   "cell_type": "code",
   "execution_count": 14,
   "metadata": {
    "id": "H3ZQTzUZ9pND"
   },
   "outputs": [],
   "source": [
    "ds2 = ds1[fss.index] # making a data frame of only selected features"
   ]
  },
  {
   "cell_type": "code",
   "execution_count": 15,
   "metadata": {
    "colab": {
     "base_uri": "https://localhost:8080/",
     "height": 206
    },
    "executionInfo": {
     "elapsed": 27,
     "status": "ok",
     "timestamp": 1644299905938,
     "user": {
      "displayName": "Ujwala K.V.L.",
      "photoUrl": "https://lh3.googleusercontent.com/a-/AOh14GiXQpukMbci2cH0PsCvRH6c7MtzyF84W1wM8Ac7=s64",
      "userId": "09066360044914152245"
     },
     "user_tz": -330
    },
    "id": "6LAkxh2A9rL_",
    "outputId": "c0f13d12-3ccb-4813-8d9d-0cfadcc37d5f"
   },
   "outputs": [
    {
     "data": {
      "text/html": [
       "<div>\n",
       "<style scoped>\n",
       "    .dataframe tbody tr th:only-of-type {\n",
       "        vertical-align: middle;\n",
       "    }\n",
       "\n",
       "    .dataframe tbody tr th {\n",
       "        vertical-align: top;\n",
       "    }\n",
       "\n",
       "    .dataframe thead th {\n",
       "        text-align: right;\n",
       "    }\n",
       "</style>\n",
       "<table border=\"1\" class=\"dataframe\">\n",
       "  <thead>\n",
       "    <tr style=\"text-align: right;\">\n",
       "      <th></th>\n",
       "      <th>Unnamed: 0</th>\n",
       "      <th>duration(in minutes)</th>\n",
       "      <th>ordinal_month</th>\n",
       "      <th>ordinal_poutcome</th>\n",
       "      <th>ordinal_contact</th>\n",
       "      <th>pdays</th>\n",
       "      <th>housing</th>\n",
       "      <th>age</th>\n",
       "      <th>day</th>\n",
       "      <th>balance</th>\n",
       "    </tr>\n",
       "  </thead>\n",
       "  <tbody>\n",
       "    <tr>\n",
       "      <th>0</th>\n",
       "      <td>0</td>\n",
       "      <td>17</td>\n",
       "      <td>1</td>\n",
       "      <td>1</td>\n",
       "      <td>1</td>\n",
       "      <td>-1.0</td>\n",
       "      <td>1</td>\n",
       "      <td>59.0</td>\n",
       "      <td>5</td>\n",
       "      <td>0.908149</td>\n",
       "    </tr>\n",
       "    <tr>\n",
       "      <th>1</th>\n",
       "      <td>1</td>\n",
       "      <td>17</td>\n",
       "      <td>1</td>\n",
       "      <td>1</td>\n",
       "      <td>1</td>\n",
       "      <td>-1.0</td>\n",
       "      <td>0</td>\n",
       "      <td>56.0</td>\n",
       "      <td>5</td>\n",
       "      <td>-0.794565</td>\n",
       "    </tr>\n",
       "    <tr>\n",
       "      <th>2</th>\n",
       "      <td>2</td>\n",
       "      <td>17</td>\n",
       "      <td>1</td>\n",
       "      <td>1</td>\n",
       "      <td>1</td>\n",
       "      <td>-1.0</td>\n",
       "      <td>1</td>\n",
       "      <td>41.0</td>\n",
       "      <td>5</td>\n",
       "      <td>0.113105</td>\n",
       "    </tr>\n",
       "    <tr>\n",
       "      <th>3</th>\n",
       "      <td>3</td>\n",
       "      <td>9</td>\n",
       "      <td>1</td>\n",
       "      <td>1</td>\n",
       "      <td>1</td>\n",
       "      <td>-1.0</td>\n",
       "      <td>1</td>\n",
       "      <td>55.0</td>\n",
       "      <td>5</td>\n",
       "      <td>1.006696</td>\n",
       "    </tr>\n",
       "    <tr>\n",
       "      <th>4</th>\n",
       "      <td>4</td>\n",
       "      <td>11</td>\n",
       "      <td>1</td>\n",
       "      <td>1</td>\n",
       "      <td>1</td>\n",
       "      <td>-1.0</td>\n",
       "      <td>0</td>\n",
       "      <td>54.0</td>\n",
       "      <td>5</td>\n",
       "      <td>-0.691572</td>\n",
       "    </tr>\n",
       "  </tbody>\n",
       "</table>\n",
       "</div>"
      ],
      "text/plain": [
       "   Unnamed: 0  duration(in minutes)  ordinal_month  ordinal_poutcome  \\\n",
       "0           0                    17              1                 1   \n",
       "1           1                    17              1                 1   \n",
       "2           2                    17              1                 1   \n",
       "3           3                     9              1                 1   \n",
       "4           4                    11              1                 1   \n",
       "\n",
       "   ordinal_contact  pdays  housing   age  day   balance  \n",
       "0                1   -1.0        1  59.0    5  0.908149  \n",
       "1                1   -1.0        0  56.0    5 -0.794565  \n",
       "2                1   -1.0        1  41.0    5  0.113105  \n",
       "3                1   -1.0        1  55.0    5  1.006696  \n",
       "4                1   -1.0        0  54.0    5 -0.691572  "
      ]
     },
     "execution_count": 15,
     "metadata": {},
     "output_type": "execute_result"
    }
   ],
   "source": [
    "ds2.head() # seeing the results"
   ]
  },
  {
   "cell_type": "code",
   "execution_count": 16,
   "metadata": {
    "id": "0wJk6pn29tGJ"
   },
   "outputs": [],
   "source": [
    "# separating x and y\n",
    "X = ds2[:] \n",
    "Y = ds1['deposit']"
   ]
  },
  {
   "cell_type": "code",
   "execution_count": 17,
   "metadata": {
    "id": "jbfqR7uF9vo7"
   },
   "outputs": [],
   "source": [
    "# splitting data in train and test\n",
    "x_train, x_test, y_train, y_test = train_test_split(X, Y, test_size=0.2)"
   ]
  },
  {
   "cell_type": "code",
   "execution_count": 18,
   "metadata": {
    "id": "4J52trNY9yjs"
   },
   "outputs": [],
   "source": [
    "\n",
    "def dt(x_train,y_train, x_test, y_test):\n",
    "\n",
    "    dct = DecisionTreeClassifier()\n",
    "    m_sv = dct.fit(x_train,y_train)\n",
    "    y_hat = m_sv.predict(x_test)\n",
    "    print('accuracy of decison tree is:',accuracy_score(y_test, y_hat))\n",
    "    print(classification_report(y_test, y_hat))\n",
    "    cm = confusion_matrix(y_test, y_hat)\n",
    "    print(cm)\n"
   ]
  },
  {
   "cell_type": "code",
   "execution_count": 19,
   "metadata": {
    "colab": {
     "base_uri": "https://localhost:8080/"
    },
    "executionInfo": {
     "elapsed": 26,
     "status": "ok",
     "timestamp": 1644299905941,
     "user": {
      "displayName": "Ujwala K.V.L.",
      "photoUrl": "https://lh3.googleusercontent.com/a-/AOh14GiXQpukMbci2cH0PsCvRH6c7MtzyF84W1wM8Ac7=s64",
      "userId": "09066360044914152245"
     },
     "user_tz": -330
    },
    "id": "hNqkppRG92F3",
    "outputId": "6ec9cf55-7f5e-41f0-9036-8600cf795afe"
   },
   "outputs": [
    {
     "name": "stdout",
     "output_type": "stream",
     "text": [
      "accuracy of decison tree is: 1.0\n",
      "              precision    recall  f1-score   support\n",
      "\n",
      "           0       1.00      1.00      1.00      1168\n",
      "           1       1.00      1.00      1.00      1065\n",
      "\n",
      "    accuracy                           1.00      2233\n",
      "   macro avg       1.00      1.00      1.00      2233\n",
      "weighted avg       1.00      1.00      1.00      2233\n",
      "\n",
      "[[1168    0]\n",
      " [   0 1065]]\n"
     ]
    }
   ],
   "source": [
    "dt(x_train,y_train,x_test,y_test)"
   ]
  },
  {
   "cell_type": "markdown",
   "metadata": {
    "id": "9LtFLxn_21eO"
   },
   "source": [
    "### If you dump complete function, then you have to call complete model"
   ]
  },
  {
   "cell_type": "code",
   "execution_count": 24,
   "metadata": {
    "id": "ppMeej7Q4xf3"
   },
   "outputs": [],
   "source": [
    "def rf(x_train, y_train, x_test, y_test):\n",
    "\n",
    "    rff = RandomForestClassifier()\n",
    "    rf1 = rff.fit(x_train,y_train)\n",
    "    y_hat = rf1.predict(x_test)\n",
    "    print('accuracy of random forest is',accuracy_score(y_test, y_hat))\n",
    "    print(classification_report(y_test, y_hat))\n",
    "    cm = confusion_matrix(y_test, y_hat)\n",
    "    with open('saved_rf_model.pkl', 'wb') as wr:\n",
    "      pickle.dump(rf1, wr)\n",
    "    return rf1\n",
    "        "
   ]
  },
  {
   "cell_type": "code",
   "execution_count": 25,
   "metadata": {
    "colab": {
     "base_uri": "https://localhost:8080/"
    },
    "executionInfo": {
     "elapsed": 1231,
     "status": "ok",
     "timestamp": 1644299909488,
     "user": {
      "displayName": "Ujwala K.V.L.",
      "photoUrl": "https://lh3.googleusercontent.com/a-/AOh14GiXQpukMbci2cH0PsCvRH6c7MtzyF84W1wM8Ac7=s64",
      "userId": "09066360044914152245"
     },
     "user_tz": -330
    },
    "id": "7EbHjIyr4_Ue",
    "outputId": "e05a8078-5717-4622-baf0-ed70346b51f7"
   },
   "outputs": [
    {
     "name": "stdout",
     "output_type": "stream",
     "text": [
      "accuracy of random forest is 1.0\n",
      "              precision    recall  f1-score   support\n",
      "\n",
      "           0       1.00      1.00      1.00      1168\n",
      "           1       1.00      1.00      1.00      1065\n",
      "\n",
      "    accuracy                           1.00      2233\n",
      "   macro avg       1.00      1.00      1.00      2233\n",
      "weighted avg       1.00      1.00      1.00      2233\n",
      "\n"
     ]
    },
    {
     "data": {
      "text/plain": [
       "RandomForestClassifier()"
      ]
     },
     "execution_count": 25,
     "metadata": {},
     "output_type": "execute_result"
    }
   ],
   "source": [
    "rf(x_train,y_train,x_test,y_test)"
   ]
  },
  {
   "cell_type": "code",
   "execution_count": 26,
   "metadata": {
    "id": "cReqIthp3h7J"
   },
   "outputs": [],
   "source": [
    "x_2 = x_train[1:2]\n",
    "y_2 = y_train[1:2]"
   ]
  },
  {
   "cell_type": "code",
   "execution_count": 30,
   "metadata": {
    "colab": {
     "base_uri": "https://localhost:8080/"
    },
    "executionInfo": {
     "elapsed": 28,
     "status": "ok",
     "timestamp": 1644299909490,
     "user": {
      "displayName": "Ujwala K.V.L.",
      "photoUrl": "https://lh3.googleusercontent.com/a-/AOh14GiXQpukMbci2cH0PsCvRH6c7MtzyF84W1wM8Ac7=s64",
      "userId": "09066360044914152245"
     },
     "user_tz": -330
    },
    "id": "DUYlkXQY3Kar",
    "outputId": "379b2868-f79d-4a72-8e12-c4bd38df1561"
   },
   "outputs": [
    {
     "data": {
      "text/plain": [
       "array([1], dtype=int64)"
      ]
     },
     "execution_count": 30,
     "metadata": {},
     "output_type": "execute_result"
    }
   ],
   "source": [
    "model =  pickle.load(open('saved_rf_model.pkl', 'rb'))\n",
    "#model =  pickle.load(open('saved_rf.pkl', 'rb'))\n",
    "model.predict(x_2)"
   ]
  },
  {
   "cell_type": "code",
   "execution_count": 28,
   "metadata": {
    "colab": {
     "base_uri": "https://localhost:8080/"
    },
    "executionInfo": {
     "elapsed": 23,
     "status": "ok",
     "timestamp": 1644299909491,
     "user": {
      "displayName": "Ujwala K.V.L.",
      "photoUrl": "https://lh3.googleusercontent.com/a-/AOh14GiXQpukMbci2cH0PsCvRH6c7MtzyF84W1wM8Ac7=s64",
      "userId": "09066360044914152245"
     },
     "user_tz": -330
    },
    "id": "VUzjTXwn4Rey",
    "outputId": "b2a4a8d4-bb3f-4c4c-822b-11c34b2ffb30"
   },
   "outputs": [
    {
     "data": {
      "text/plain": [
       "2843    1\n",
       "Name: deposit, dtype: int64"
      ]
     },
     "execution_count": 28,
     "metadata": {},
     "output_type": "execute_result"
    }
   ],
   "source": [
    "y_2"
   ]
  },
  {
   "cell_type": "code",
   "execution_count": null,
   "metadata": {
    "id": "gtf323Np4j5Z"
   },
   "outputs": [],
   "source": []
  },
  {
   "cell_type": "code",
   "execution_count": null,
   "metadata": {},
   "outputs": [],
   "source": []
  }
 ],
 "metadata": {
  "colab": {
   "name": "Feature_Engineering_and_modelling.ipynb",
   "provenance": []
  },
  "kernelspec": {
   "display_name": "Python 3 (ipykernel)",
   "language": "python",
   "name": "python3"
  },
  "language_info": {
   "codemirror_mode": {
    "name": "ipython",
    "version": 3
   },
   "file_extension": ".py",
   "mimetype": "text/x-python",
   "name": "python",
   "nbconvert_exporter": "python",
   "pygments_lexer": "ipython3",
   "version": "3.7.12"
  }
 },
 "nbformat": 4,
 "nbformat_minor": 1
}
